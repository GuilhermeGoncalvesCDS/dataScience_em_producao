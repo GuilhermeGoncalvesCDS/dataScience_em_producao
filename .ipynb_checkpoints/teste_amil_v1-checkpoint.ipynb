{
 "cells": [
  {
   "cell_type": "code",
   "execution_count": 2,
   "id": "bc966449-94d1-4d95-8d9e-dc6e2062e760",
   "metadata": {},
   "outputs": [],
   "source": [
    "import pandas as pd\n",
    "import math\n",
    "import pickle"
   ]
  },
  {
   "cell_type": "code",
   "execution_count": 9,
   "id": "56ac0bca-6328-4c5e-b5cd-27408ded14f0",
   "metadata": {},
   "outputs": [],
   "source": [
    "data_amil = pd.read_csv('data/amil.csv', low_memory=False)"
   ]
  },
  {
   "cell_type": "code",
   "execution_count": 10,
   "id": "92ec7a36-5f4b-4dbf-8e0b-6df33da2bda3",
   "metadata": {},
   "outputs": [
    {
     "data": {
      "text/html": [
       "<div>\n",
       "<style scoped>\n",
       "    .dataframe tbody tr th:only-of-type {\n",
       "        vertical-align: middle;\n",
       "    }\n",
       "\n",
       "    .dataframe tbody tr th {\n",
       "        vertical-align: top;\n",
       "    }\n",
       "\n",
       "    .dataframe thead th {\n",
       "        text-align: right;\n",
       "    }\n",
       "</style>\n",
       "<table border=\"1\" class=\"dataframe\">\n",
       "  <thead>\n",
       "    <tr style=\"text-align: right;\">\n",
       "      <th></th>\n",
       "      <th>Usuário</th>\n",
       "      <th>Data</th>\n",
       "      <th>Pergunta</th>\n",
       "      <th>Feedback</th>\n",
       "      <th>Copiloto</th>\n",
       "    </tr>\n",
       "  </thead>\n",
       "  <tbody>\n",
       "    <tr>\n",
       "      <th>0</th>\n",
       "      <td>amil_marcelo_alves_de_souza_sobrinho</td>\n",
       "      <td>30/09/2023</td>\n",
       "      <td>erro de reembolso por completo o que fazer</td>\n",
       "      <td>0 - Sem Feedback.\\n</td>\n",
       "      <td>Reembolso</td>\n",
       "    </tr>\n",
       "    <tr>\n",
       "      <th>1</th>\n",
       "      <td>amil_hugo_vicente_de_albuquerque_cunha</td>\n",
       "      <td>30/09/2023</td>\n",
       "      <td>erro reembolso ja solicitado no seguinte proto...</td>\n",
       "      <td>0 - Sem Feedback.\\n</td>\n",
       "      <td>Reembolso</td>\n",
       "    </tr>\n",
       "    <tr>\n",
       "      <th>2</th>\n",
       "      <td>amil_amanda_da_silva_alves</td>\n",
       "      <td>30/09/2023</td>\n",
       "      <td>trocar conta\\n</td>\n",
       "      <td>0 - Sem Feedback.\\n</td>\n",
       "      <td>Reembolso</td>\n",
       "    </tr>\n",
       "    <tr>\n",
       "      <th>3</th>\n",
       "      <td>amil_rafael_silva_dos_santos</td>\n",
       "      <td>30/09/2023</td>\n",
       "      <td>como solicitar reembolso pelo aplicativo\\n</td>\n",
       "      <td>0 - Sem Feedback.\\n</td>\n",
       "      <td>Reembolso</td>\n",
       "    </tr>\n",
       "    <tr>\n",
       "      <th>4</th>\n",
       "      <td>amil_itaiamara_oliveira_pereira</td>\n",
       "      <td>30/09/2023</td>\n",
       "      <td>Fora do Rol de Cobertura da ANS</td>\n",
       "      <td>0 - Sem Feedback.\\n</td>\n",
       "      <td>Reembolso</td>\n",
       "    </tr>\n",
       "  </tbody>\n",
       "</table>\n",
       "</div>"
      ],
      "text/plain": [
       "                                  Usuário        Data  \\\n",
       "0    amil_marcelo_alves_de_souza_sobrinho  30/09/2023   \n",
       "1  amil_hugo_vicente_de_albuquerque_cunha  30/09/2023   \n",
       "2              amil_amanda_da_silva_alves  30/09/2023   \n",
       "3            amil_rafael_silva_dos_santos  30/09/2023   \n",
       "4         amil_itaiamara_oliveira_pereira  30/09/2023   \n",
       "\n",
       "                                            Pergunta             Feedback  \\\n",
       "0         erro de reembolso por completo o que fazer  0 - Sem Feedback.\\n   \n",
       "1  erro reembolso ja solicitado no seguinte proto...  0 - Sem Feedback.\\n   \n",
       "2                                     trocar conta\\n  0 - Sem Feedback.\\n   \n",
       "3         como solicitar reembolso pelo aplicativo\\n  0 - Sem Feedback.\\n   \n",
       "4                    Fora do Rol de Cobertura da ANS  0 - Sem Feedback.\\n   \n",
       "\n",
       "    Copiloto  \n",
       "0  Reembolso  \n",
       "1  Reembolso  \n",
       "2  Reembolso  \n",
       "3  Reembolso  \n",
       "4  Reembolso  "
      ]
     },
     "execution_count": 10,
     "metadata": {},
     "output_type": "execute_result"
    }
   ],
   "source": [
    "data_amil.head()"
   ]
  },
  {
   "cell_type": "code",
   "execution_count": 16,
   "id": "2c1dc11a-b206-4c56-a4b3-d316acd6d77c",
   "metadata": {},
   "outputs": [],
   "source": [
    "df = data_amil.copy()"
   ]
  },
  {
   "cell_type": "code",
   "execution_count": 28,
   "id": "17b9cd91-5276-4321-a666-97436f14af9d",
   "metadata": {},
   "outputs": [],
   "source": [
    "user_copiloto = df['Usuário'].groupby(df['Usuário']).count()"
   ]
  },
  {
   "cell_type": "code",
   "execution_count": 31,
   "id": "c1a866c0-4ed2-4ff8-8895-67ef3d7dca6d",
   "metadata": {},
   "outputs": [
    {
     "data": {
      "text/plain": [
       "Usuário\n",
       "amil_adriano_dos_santos_gomes               1\n",
       "amil_alessandra_martines_santos             1\n",
       "amil_aline_aparecida_espindola_do_n         3\n",
       "amil_amanda_da_silva_alves                  2\n",
       "amil_ana_carolina_martins_nunes             4\n",
       "amil_camila_turte                           4\n",
       "amil_daniela_carneiro_santos                1\n",
       "amil_fabiana_lacerda_de_souza               2\n",
       "amil_graziele_cristina_santana_da_silva     5\n",
       "amil_hugo_vicente_de_albuquerque_cunha      4\n",
       "amil_inae_egle_santos_gadelha              29\n",
       "amil_itaiamara_oliveira_pereira             1\n",
       "amil_joao_victor_cruz_de_abreu              1\n",
       "amil_karina_pires_de_godoy                  2\n",
       "amil_kellyn_bruna_goncalves                 1\n",
       "amil_laryssa_leopoldino_lucas               6\n",
       "amil_liliane_aparecida_inacio               1\n",
       "amil_liriel_feitosa_nadyer                  1\n",
       "amil_luana_dutra_pereira                    9\n",
       "amil_luana_yvem_alves_da_silva              3\n",
       "amil_luciana_dos_santos_david               2\n",
       "amil_marcelo_alves_de_souza_sobrinho        1\n",
       "amil_maria_cristina_gabriel                10\n",
       "amil_priscila_de_oliveira_lamano            3\n",
       "amil_rafael_silva_dos_santos                1\n",
       "amil_rui_cesar_de_oliveira                  9\n",
       "amil_sophia_martins_da_silva                1\n",
       "amil_vinicius_caminhoto_dos_santos          3\n",
       "amil_vinicius_dos_santos_rocha              1\n",
       "amil_william_vinicius_paiva                 3\n",
       "fabio_amil_user                             1\n",
       "Name: Usuário, dtype: int64"
      ]
     },
     "execution_count": 31,
     "metadata": {},
     "output_type": "execute_result"
    }
   ],
   "source": [
    "user_copiloto"
   ]
  },
  {
   "cell_type": "code",
   "execution_count": null,
   "id": "f9a2074d-d426-479c-ada8-0d3b74e74dbd",
   "metadata": {},
   "outputs": [],
   "source": []
  }
 ],
 "metadata": {
  "kernelspec": {
   "display_name": "Python 3 (ipykernel)",
   "language": "python",
   "name": "python3"
  },
  "language_info": {
   "codemirror_mode": {
    "name": "ipython",
    "version": 3
   },
   "file_extension": ".py",
   "mimetype": "text/x-python",
   "name": "python",
   "nbconvert_exporter": "python",
   "pygments_lexer": "ipython3",
   "version": "3.8.17"
  }
 },
 "nbformat": 4,
 "nbformat_minor": 5
}
